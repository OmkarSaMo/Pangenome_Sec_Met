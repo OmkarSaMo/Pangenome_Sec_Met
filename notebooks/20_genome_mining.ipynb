{
 "cells": [
  {
   "cell_type": "markdown",
   "metadata": {},
   "source": [
    "# Run and analyse antismash results"
   ]
  },
  {
   "cell_type": "code",
   "execution_count": 1,
   "metadata": {},
   "outputs": [],
   "source": [
    "# import libraries\n",
    "import os \n",
    "import pandas as pd\n",
    "import matplotlib.pyplot as plt\n",
    "import seaborn as sns\n",
    "from Bio import SeqIO\n",
    "import numpy as np\n",
    "from collections import OrderedDict\n",
    "import networkx as nx\n",
    "import scipy\n",
    "import math\n",
    "import collections\n",
    "import pickle\n",
    "import plotly.plotly as py\n",
    "import shutil\n",
    "import cufflinks as cf"
   ]
  },
  {
   "cell_type": "code",
   "execution_count": 2,
   "metadata": {},
   "outputs": [
    {
     "ename": "NameError",
     "evalue": "name 'fix_accession_ids' is not defined",
     "output_type": "error",
     "traceback": [
      "\u001b[0;31m---------------------------------------------------------------------------\u001b[0m",
      "\u001b[0;31mNameError\u001b[0m                                 Traceback (most recent call last)",
      "\u001b[0;32m<ipython-input-2-3f575deb0bcf>\u001b[0m in \u001b[0;36m<module>\u001b[0;34m()\u001b[0m\n\u001b[1;32m      1\u001b[0m \u001b[0;31m# import directories\u001b[0m\u001b[0;34m\u001b[0m\u001b[0;34m\u001b[0m\u001b[0;34m\u001b[0m\u001b[0m\n\u001b[1;32m      2\u001b[0m \u001b[0mdf_dir\u001b[0m \u001b[0;34m=\u001b[0m \u001b[0;34m'/home/omkar/Projects/panGenome/data/entero_project/general/'\u001b[0m\u001b[0;34m\u001b[0m\u001b[0;34m\u001b[0m\u001b[0m\n\u001b[0;32m----> 3\u001b[0;31m \u001b[0mfix_accession_ids\u001b[0m\u001b[0;34m(\u001b[0m\u001b[0mdata_dir\u001b[0m\u001b[0;34m)\u001b[0m\u001b[0;34m\u001b[0m\u001b[0;34m\u001b[0m\u001b[0m\n\u001b[0m",
      "\u001b[0;31mNameError\u001b[0m: name 'fix_accession_ids' is not defined"
     ]
    }
   ],
   "source": [
    "# import directories\n",
    "df_dir = '/home/omkar/Projects/panGenome/data/entero_project/general/'\n",
    "fix_accession_ids(data_dir)"
   ]
  },
  {
   "cell_type": "code",
   "execution_count": 7,
   "metadata": {},
   "outputs": [],
   "source": [
    "def fix_accession_ids(data_dir):\n",
    "    # This is a fix to get fasta and gff files compatible for antiSMASH run\n",
    "    # add accc| to all the fasta files so that IDs match with gff\n",
    "    # The PATRICID_antismash.fasta and PATRICID.PATRIC.gff can be used in antiSMASH run\n",
    "    genome_ids = [f for f in os.listdir(data_dir)]\n",
    "\n",
    "    for pat_id in genome_ids:\n",
    "        fasta_file = os.path.join(data_dir, pat_id, pat_id + '.fna')\n",
    "        anti_fasta_file = os.path.join(data_dir, pat_id, pat_id + '_antismash.fasta')\n",
    "        with open(fasta_file) as original, open(anti_fasta_file, 'w') as corrected:\n",
    "            records = SeqIO.parse(original, 'fasta')\n",
    "            for record in records:          \n",
    "                record.id = 'accn|' + record.id\n",
    "                record.description = record.description\n",
    "                SeqIO.write(record, corrected, 'fasta')"
   ]
  },
  {
   "cell_type": "markdown",
   "metadata": {},
   "source": [
    "python run_antismash.py *_antismash.fasta --output-dir as5/ --genefinding-gff3 *.PATRIC.gff -d"
   ]
  },
  {
   "cell_type": "markdown",
   "metadata": {},
   "source": [
    "# Process antismash output results"
   ]
  },
  {
   "cell_type": "code",
   "execution_count": null,
   "metadata": {},
   "outputs": [],
   "source": [
    "# Rename the cluster files\n",
    "file_list = [f for f in os.listdir(data_dir) if 'part' not in f]\n",
    "\n",
    "# Fix directory name\n",
    "import shutil\n",
    "for pat_id in file_list:\n",
    "    src = os.path.join('/home/omkar/Projects/panGenome/data/newer_genomes/genomes/as_outpout/as4/', pat_id + '_antismash')\n",
    "    if os.path.isdir(src):\n",
    "        dest = os.path.join(data_dir, pat_id)\n",
    "        shutil.move(src,dest)\n",
    "        rename_from = os.path.join(dest, pat_id + '_antismash')\n",
    "        rename_to = os.path.join(dest, 'as4')\n",
    "        os.rename(rename_from, rename_to)"
   ]
  },
  {
   "cell_type": "code",
   "execution_count": null,
   "metadata": {},
   "outputs": [],
   "source": [
    "def fix_antismash_filenames(data_dir)\n",
    "    # Fix gbk filenames after antiSMASH run with PATRIC IDs for consistency with further analysis\n",
    "    genome_ids = [f for f in os.listdir(os.path.join(data_dir))]\n",
    "    \n",
    "    for pat_id in genome_ids:\n",
    "        final_gbk = os.path.join(data_dir, pat_id, 'as4', pat_id + '.final.gbk')\n",
    "        if not os.path.isfile(final_gbk):\n",
    "            list_gbk = [f for f in os.listdir(os.path.join(data_dir, pat_id, 'as4')) if 'gbk' in f] \n",
    "            for gbk in list_gbk:\n",
    "                if 'final' in gbk:\n",
    "                    src = os.path.join(data_dir, pat_id, 'as4', gbk)\n",
    "                    dest = os.path.join(data_dir, pat_id, 'as4', pat_id + gbk[-10:])\n",
    "                    os.rename(src, dest)\n",
    "                elif 'cluster' in gbk:\n",
    "                    src = os.path.join(data_dir, pat_id, 'as4', gbk)\n",
    "                    dest = os.path.join(data_dir, pat_id, 'as4', pat_id + gbk[-15:])\n",
    "                    os.rename(src,dest)"
   ]
  },
  {
   "cell_type": "code",
   "execution_count": null,
   "metadata": {},
   "outputs": [],
   "source": []
  },
  {
   "cell_type": "code",
   "execution_count": null,
   "metadata": {},
   "outputs": [],
   "source": [
    "# Rename extra files\n",
    "for pat_id in file_list:\n",
    "    final_gbk = os.path.join(data_dir, pat_id, 'as4', pat_id + '.final.embl')\n",
    "    if not os.path.isfile(final_gbk):\n",
    "        list_others = [f for f in os.listdir(os.path.join(data_dir, pat_id, 'as4')) if 'accn' in f] \n",
    "#         print(list_others)\n",
    "        for f in list_others:\n",
    "            tmp_splits = f.split('.')\n",
    "            id_from = tmp_splits[0]\n",
    "            id_to = f.replace(id_from, pat_id)            \n",
    "            rename_from = os.path.join(data_dir, pat_id, 'as4', f)\n",
    "            rename_to = os.path.join(data_dir, pat_id, 'as4', id_to)\n",
    "            os.rename(rename_from, rename_to)\n"
   ]
  },
  {
   "cell_type": "markdown",
   "metadata": {},
   "source": [
    "# Analyze antismash output results"
   ]
  },
  {
   "cell_type": "code",
   "execution_count": null,
   "metadata": {},
   "outputs": [],
   "source": [
    "# Get genus, organism, patric ids\n",
    "array_0 = df_entero.index.tolist()\n",
    "array_1 = df_entero.Genus.tolist()\n",
    "array_2 = df_entero['Genome Name'].tolist()\n",
    "array_3 = df_entero.Plasmids.tolist()\n",
    "array_5 = df_entero['Genome Length'].tolist()\n",
    "\n",
    "pat_genus_dict = dict(zip(array_0, array_1))\n",
    "pat_genome_dict = dict(zip(array_0, array_2))\n",
    "pat_plasmids_dict = dict(zip(array_0, array_3))\n",
    "pat_genome_len_dict = dict(zip(array_0, array_5))\n",
    "\n",
    "# genus_list = []\n",
    "# genus_cat_list = []\n",
    "# genome_list = []\n",
    "# genome_len_list = []\n",
    "# pat_list = []\n",
    "# no_plasmids_list = []\n",
    "# no_records_list = []\n",
    "# no_clusters_per_genome_list = []\n",
    "# no_clusters_per_record_list = []\n",
    "# record_accession_list = []\n",
    "# record_len_list = []\n",
    "# record_desc_list = []\n",
    "# cluster_list = []\n",
    "# start_pos_list = []\n",
    "# end_pos_list = []\n",
    "# product_list = []\n",
    "# product_cat_list = []\n",
    "# contig_edge_list = []\n",
    "\n"
   ]
  },
  {
   "cell_type": "code",
   "execution_count": null,
   "metadata": {},
   "outputs": [],
   "source": [
    "# Generate lists for generating dataframe\n",
    "cnt = 1\n",
    "for pat_id in pat_genus_dict.keys():\n",
    "    gbk_path = os.path.join(data_dir, 'genomes', pat_id, 'as4', pat_id + '.final.gbk')\n",
    "    \n",
    "    no_records = len(list(SeqIO.parse(gbk_path, \"genbank\")))\n",
    "    input_dir = os.path.join(data_dir, 'genomes', pat_id, 'as4')\n",
    "    cluster_files = [f for f in os.listdir(input_dir) if 'gbk' in f and 'cluster' in f]\n",
    "    with open(gbk_path, \"r\") as handle:\n",
    "        no_of_clust_genome = 0\n",
    "        for record in SeqIO.parse(handle, \"genbank\"):\n",
    "            no_of_clust_rec = 0\n",
    "            record_len = len(record.seq)\n",
    "            record_desc = record.description.split('[')[1].split('|')[0].strip()\n",
    "            for feature in record.features:\n",
    "                if feature.type == 'cluster':\n",
    "                    contig_edge = feature.qualifiers['contig_edge'][0]\n",
    "                    if contig_edge == 'False':\n",
    "                        no_of_clust_rec = no_of_clust_rec + 1\n",
    "                        no_of_clust_genome = no_of_clust_genome + 1\n",
    "                        product = feature.qualifiers['product'][0]\n",
    "                        note = feature.qualifiers['note'][0]\n",
    "                        cluster_id = note.split(':')[1].strip()\n",
    "                        start = feature.location.start.position\n",
    "                        end = feature.location.end.position\n",
    "                        genus_name = pat_genus_dict[pat_id]\n",
    "                        \n",
    "                        genus_list.append(genus_name)\n",
    "                        genome_list.append(pat_genome_dict[pat_id])\n",
    "                        genome_len_list.append(pat_genome_len_dict[pat_id])\n",
    "                        pat_list.append(pat_id) \n",
    "                        product_list.append(product) \n",
    "                        contig_edge_list.append(contig_edge)\n",
    "                        start_pos_list.append(start)\n",
    "                        end_pos_list.append(end)\n",
    "                        cluster_list.append(pat_id + '.cluster0' + \"{:02d}\".format(int(cluster_id)))\n",
    "                        no_records_list.append(no_records)\n",
    "                        record_accession_list.append(record.id)\n",
    "                        record_desc_list.append(record_desc)\n",
    "                        record_len_list.append(record_len)\n",
    "                        no_plasmids_list.append(pat_plasmids_dict[pat_id])\n",
    "\n",
    "                        if genus_name in abundant_genera:\n",
    "                            genus_cat_list.append(genus_name)\n",
    "                        else:\n",
    "                            genus_cat_list.append('Other')\n",
    "\n",
    "                        if product in abundant_products:\n",
    "                            product_cat_list.append(product)\n",
    "                        else:\n",
    "                            product_cat_list.append('Other')\n",
    "                    \n",
    "            for i_clust in range(no_of_clust_rec):\n",
    "                no_clusters_per_record_list.append(no_of_clust_rec)   \n",
    "        for i_clust_g in range(no_of_clust_genome):\n",
    "            no_clusters_per_genome_list.append(no_of_clust_genome) \n",
    "    \n",
    "    print(cnt)\n",
    "    cnt = cnt +1 "
   ]
  },
  {
   "cell_type": "code",
   "execution_count": null,
   "metadata": {},
   "outputs": [],
   "source": [
    "tuples = list(zip(genus_list, genus_cat_list, genome_list, genome_len_list, pat_list, no_clusters_per_genome_list, \n",
    "                  no_records_list, no_plasmids_list, record_accession_list, record_len_list, \n",
    "                  no_clusters_per_record_list, cluster_list))\n",
    "\n",
    "index = pd.MultiIndex.from_tuples(tuples, names=['genus', 'genus_cat','genome_name', 'genome_length', 'patric_id', \n",
    "                        'no_of_clusters_per_genome', 'no_of_records', 'no_of plasmids', 'record_accession',\n",
    "                        'record_len', 'no_of_clusters_per_record', 'cluster_id'])\n",
    "\n",
    "df_clusters = pd.DataFrame(index=index)\n",
    "df_clusters['product'] = product_list \n",
    "df_clusters['product_cat'] = product_cat_list \n",
    "df_clusters['contig_edge'] = contig_edge_list\n",
    "df_clusters['start_pos'] = start_pos_list\n",
    "df_clusters['end_pos'] = end_pos_list"
   ]
  },
  {
   "cell_type": "code",
   "execution_count": null,
   "metadata": {},
   "outputs": [],
   "source": [
    "clusters_list = df_clusters['product'].tolist()\n",
    "hybrid_list = []\n",
    "for cluster in clusters_list:\n",
    "    if '-' in cluster:\n",
    "        hybrid_list.append('Yes')\n",
    "    else:\n",
    "        hybrid_list.append('No')\n",
    "df_clusters['hybrid_type'] = hybrid_list\n",
    "\n",
    "df_products_count = df_clusters.groupby(['bigscape_class','hybrid_type','product_cat', 'product']).count()\n",
    "df_products_count = df_products_count.drop(['start_pos', 'end_pos', 'plasmid_annotation', 'sequence_type'], axis=1)\n",
    "df_products_count.to_csv('/home/omkar/Projects/panGenome/data/entero_project/general/df_product_counts.csv')\n",
    "df_products_count.to_pickle('/home/omkar/Projects/panGenome/data/entero_project/general/df_product_counts.p')"
   ]
  },
  {
   "cell_type": "code",
   "execution_count": null,
   "metadata": {},
   "outputs": [],
   "source": [
    "# Remove clusters with contig edge\n",
    "df_clusters_tmp_no_contig = df_clusters_tmp[df_clusters_tmp.contig_edge == 'True']\n",
    "\n",
    "clusters_ids_rmv_ = df_clusters_tmp_no_contig.index.get_level_values(11).tolist()\n",
    "\n",
    "mv_from_clusters_path_list = [os.path.join('/home/omkar/Projects/panGenome/data/entero_project/genomes/',clust[:-11],'as4',clust+'.gbk') for clust in  clusters_ids_rmv_]\n",
    "mv_to_clusters_path_list = [os.path.join('/home/omkar/Projects/panGenome/data/entero_project/filtered_contig_edge/',clust+'.gbk') for clust in  clusters_ids_rmv_]\n",
    "\n",
    "for tmp_id in range(len(mv_from_clusters_path_list)):\n",
    "    shutil.move(mv_from_clusters_path_list[tmp_id], mv_to_clusters_path_list[tmp_id])"
   ]
  },
  {
   "cell_type": "code",
   "execution_count": null,
   "metadata": {},
   "outputs": [],
   "source": [
    "idx = pd.IndexSlice\n",
    "\n",
    "pat_tgt_list = []\n",
    "for tmp_idx in range(len(no_clusters_per_genome_list)):\n",
    "    if no_clusters_per_genome_list[tmp_idx] != no_clusters_per_record_list[tmp_idx]:\n",
    "        pat_tgt_list.append(pat_list[tmp_idx])\n",
    "\n",
    "df_cluster_records = df_clusters.loc[idx[:,:,:,:,pat_tgt_list,:,:,:,:,:,:,:],:]\n",
    "\n",
    "df_cluster_records.to_pickle('/home/omkar/Projects/panGenome/data/entero_project/general/df_clusters_records.p')\n",
    "df_cluster_records.to_csv('/home/omkar/Projects/panGenome/data/entero_project/general/df_clusters_records.csv')"
   ]
  },
  {
   "cell_type": "code",
   "execution_count": null,
   "metadata": {},
   "outputs": [],
   "source": [
    "# Write dataframe of clusters\n",
    "df_clusters.to_pickle('/home/omkar/Projects/panGenome/data/entero_project/general/df_clusters.p')\n",
    "df_clusters.to_csv('/home/omkar/Projects/panGenome/data/entero_project/general/df_clusters.csv')"
   ]
  },
  {
   "cell_type": "markdown",
   "metadata": {},
   "source": [
    "## Figure 1"
   ]
  },
  {
   "cell_type": "code",
   "execution_count": null,
   "metadata": {},
   "outputs": [],
   "source": [
    "# Cluster count vs genome size scatter plots\n",
    "df_genome_data = df_entero\n",
    "# df_genome_data = df_genome_data.set_index('Strain_ID')\n",
    "\n",
    "scat_data = df_genome_data[['Genome Length', 'no_of_clusters', 'GC Content']].astype(float)\n",
    "scat_data['Genome Length'] = round(scat_data['Genome Length']/1000000,1)\n",
    "scat_data['GC Content'] = round(scat_data['GC Content'],1)\n",
    "scat_data['genus_cat'] = df_genome_data.genus_cat\n",
    "df = scat_data\n",
    "\n",
    "df_counts = df.groupby(['GC Content', 'no_of_clusters','genus_cat']).size().reset_index(name='counts')\n",
    "# df_counts = df.groupby(['Genome Length', 'no_of_clusters','genus_cat']).size().reset_index(name='counts')\n",
    "\n",
    "cnt_colors = df_counts.genus_cat.map(my_palette)\n",
    "\n",
    "# Create Fig and gridspec\n",
    "fig = plt.figure(figsize=(16, 10), dpi= 80)\n",
    "grid = plt.GridSpec(4, 4, hspace=0.6, wspace=0.2)\n",
    "\n",
    "# Define the axes\n",
    "ax_main = fig.add_subplot(grid[:-1, :-1])\n",
    "ax_right = fig.add_subplot(grid[:-1, -1], yticklabels=[])\n",
    "ax_bottom = fig.add_subplot(grid[-1, 0:-1], xticklabels=[])\n",
    "\n",
    "# Scatterplot on main ax\n",
    "# ax_main.scatter('Genome Length', 'no_of_clusters', data=df_counts, s=df_counts.counts*40, c=cnt_colors, alpha = 0.55, \n",
    "#                 edgecolors='gray', linewidths=.5)\n",
    "ax_main.scatter('GC Content', 'no_of_clusters', data=df_counts, s=df_counts.counts*33, c=cnt_colors, alpha = 0.55,\n",
    "               edgecolors='gray', linewidths=.5)\n",
    "# sns.stripplot('Genome Length', 'no_of_clusters', data=df, c=row_colors, jitter=0.25, ax=ax_main)\n",
    "\n",
    "# histogram on the right\n",
    "# ax_bottom.hist(df['GC Content'], 40, histtype='stepfilled', orientation='vertical', color='deeppink')\n",
    "ax_bottom.hist(df['Genome Length'], 40, histtype='stepfilled', orientation='vertical', color='deeppink')\n",
    "\n",
    "ax_bottom.invert_yaxis()\n",
    "\n",
    "# histogram in the bottom\n",
    "ax_right.hist(df['no_of_clusters'], int(max(df.no_of_clusters) + 1), histtype='stepfilled', orientation='horizontal', color='deeppink')\n",
    "\n",
    "# Decorations\n",
    "ax_main.set(title='No. of clusters vs GC Content', \n",
    "            xlabel='GC Content(%)', ylabel='No of clusters per genome')\n",
    "# ax_main.set(title='No. of clusters vs Genome Length', \n",
    "#             xlabel='Genome Length (Mb)', ylabel='No of clusters per genome')\n",
    "ax_main.title.set_fontsize(24)\n",
    "\n",
    "ax_bottom.set(ylabel='No of genomes')\n",
    "ax_right.set(xlabel='No of genomes')\n",
    "\n",
    "# Annotate \n",
    "from matplotlib.patches import Ellipse\n",
    "# el = Ellipse((5.4, 21), 1.2, 6, angle=0,facecolor='g',alpha=0.2)\n",
    "\n",
    "# ax_main.add_artist(el)\n",
    "# el.set_clip_box(ax_main.bbox)\n",
    "# ax_main.annotate('Photorhabdus()',\n",
    "#             xy=(5.8, 22),      # theta, radius\n",
    "#             xytext=(6.5, 22),   # theta, radius\n",
    "#             arrowprops=dict(facecolor='black', shrink=0.04),\n",
    "#             horizontalalignment='left',\n",
    "#             verticalalignment='bottom', fontsize=16,\n",
    "#             clip_on=True)  # clip to the axes bounding box\n",
    "\n",
    "\n",
    "for item in ([ax_main.xaxis.label, ax_main.yaxis.label] + ax_main.get_xticklabels() + ax_main.get_yticklabels()):\n",
    "    item.set_fontsize(18)\n",
    "\n",
    "for item in ([ax_right.xaxis.label, ax_right.yaxis.label] + ax_right.get_xticklabels() + ax_right.get_yticklabels()):\n",
    "    item.set_fontsize(18)\n",
    "    \n",
    "for item in ([ax_bottom.xaxis.label, ax_bottom.yaxis.label] + ax_bottom.get_xticklabels() + ax_bottom.get_yticklabels()):\n",
    "    item.set_fontsize(18)\n",
    "plt.show()"
   ]
  },
  {
   "cell_type": "code",
   "execution_count": null,
   "metadata": {},
   "outputs": [],
   "source": [
    "scat_data.to_csv('/home/omkar/Projects/panGenome/data/entero_project/general/scat_data_cluster_len.csv')\n",
    "df_counts.to_csv('/home/omkar/Projects/panGenome/data/entero_project/general/scat_data_counts_cluster_len.csv')"
   ]
  },
  {
   "cell_type": "markdown",
   "metadata": {},
   "source": [
    "## Supp Figure "
   ]
  },
  {
   "cell_type": "code",
   "execution_count": null,
   "metadata": {},
   "outputs": [],
   "source": [
    "# Generate figure for genera distribution and number of clusters per genome \n",
    "idx = pd.IndexSlice\n",
    "prod_columns = [item for item in abundant_products]\n",
    "prod_columns.append('Other')\n",
    "for col in prod_columns:\n",
    "    df_genome_data.loc[:,col] = 0\n",
    "for pat_id in df_genome_data.index:\n",
    "    genus_name = pat_genus_dict[pat_id]\n",
    "    if genus_name in abundant_genera:\n",
    "        df_genome_data.loc[pat_id, 'genus_cat'] = genus_name\n",
    "    else:\n",
    "        df_genome_data.loc[pat_id, 'genus_cat'] = 'Other'\n",
    "        \n",
    "    if pat_id in df_clusters.index.get_level_values(4).tolist():\n",
    "        no_of_clusters = df_clusters.loc[idx[:,:,:,:,pat_id,:,:,:,:,:,:,:],:].index.get_level_values(5).tolist()[0]\n",
    "        df_genome_data.loc[pat_id, 'no_of_clusters'] = no_of_clusters\n",
    "        product_cat_list_tmp = df_clusters.loc[idx[:,:,:,:,pat_id,:,:,:,:,:,:,:],'product_cat'].tolist()\n",
    "        for product_cat in product_cat_list_tmp:\n",
    "            df_genome_data.loc[pat_id, product_cat] = df_genome_data.loc[pat_id, product_cat] + 1\n",
    "    else:\n",
    "        df_genome_data.loc[pat_id, 'no_of_clusters'] = 0\n",
    "        \n",
    "# Reindexing\n",
    "df_genome_data = df_genome_data.reindex(columns= extracted_columns + ['genus_cat', 'no_of_clusters'] + prod_columns)\n",
    "df_genome_data.sort_values('genus_cat', inplace=True)\n",
    "\n",
    "genome_product_map = df_genome_data.iloc[:,6:]\n",
    "# Colors according to genera\n",
    "# Prepare a vector of color mapped to the 'cyl' column\n",
    "my_palette = dict(zip(df_genome_data.genus_cat.unique(), sns.color_palette(\"tab20\", len(df_genome_data.genus_cat.unique()))))\n",
    "row_colors = df_genome_data.genus_cat.map(my_palette)\n",
    "\n",
    "reorder_index = []\n",
    "genus_list = list(abundant_genera)\n",
    "genus_list.append('Other')\n",
    "\n",
    "for genus in genus_list:\n",
    "    genus_block_ids = df_genome_data[df_genome_data.genus_cat == genus].index\n",
    "    df_genus_block = genome_product_map.loc[genus_block_ids,:]\n",
    "    r_block = sns.clustermap(df_genus_block, cmap=sns.color_palette(\"CMRmap_r\",10), col_cluster=False, row_cluster=True, row_colors=row_colors, \n",
    "              linewidths=0, yticklabels=False)\n",
    "    reorder_index = reorder_index + r_block.data2d.index.tolist()"
   ]
  },
  {
   "cell_type": "code",
   "execution_count": null,
   "metadata": {},
   "outputs": [],
   "source": [
    "genus_count = df_genome_data.groupby('genus_cat').count()\n",
    "genus_count = genus_count['Genus']\n",
    "genus_count = genus_count.reindex(index=genus_list)\n",
    "group_names = genus_count.index.tolist()\n",
    "group_size = genus_count.tolist()\n",
    "\n",
    "cluster_count = df_clusters.groupby('genus_cat').count()\n",
    "cluster_count = cluster_count['product']\n",
    "cluster_count = cluster_count.reindex(index=genus_list)\n",
    "cluster_size = cluster_count.tolist()\n"
   ]
  },
  {
   "cell_type": "code",
   "execution_count": null,
   "metadata": {},
   "outputs": [],
   "source": [
    "genome_product_map = df_genome_data.iloc[:,6:]\n",
    "genome_product_map = genome_product_map.reindex(index=reorder_index)\n",
    "sns.set_context(\"poster\", font_scale=1 )\n",
    "\n",
    "cmap = sns.color_palette(\"BuPu\",20)\n",
    "\n",
    "\n",
    "g = sns.clustermap(genome_product_map, cmap=cmap, col_cluster=True, row_cluster=False, row_colors=row_colors, \n",
    "              figsize = (10,20),linewidths=0, yticklabels=False)\n",
    "\n",
    "for genus in genus_list:\n",
    "    label = genus + ': #'+ str(genus_count.loc[genus]) + ' (#'+str(round(cluster_count.loc[genus]/genus_count.loc[genus],1)) + ')'   \n",
    "    g.ax_col_dendrogram.bar(0, 0, color=my_palette[genus],\n",
    "                            label=label, linewidth=0)\n",
    "g.ax_col_dendrogram.legend(loc=(1.1,-2), ncol=1)"
   ]
  },
  {
   "cell_type": "code",
   "execution_count": null,
   "metadata": {},
   "outputs": [],
   "source": [
    "# Save or load color schemes\n",
    "pickle_out = open('/home/omkar/Projects/panGenome/data/entero_project/general/genus_colors.p',\"rb\")\n",
    "my_palette = pickle.load(pickle_out)\n",
    "pickle_out.close()\n",
    "\n",
    "pickle_out = open('/home/omkar/Projects/panGenome/data/entero_project/general/genus_colors.p',\"wb\")\n",
    "pickle.dump(my_palette, pickle_out)\n",
    "pickle_out.close()"
   ]
  },
  {
   "cell_type": "code",
   "execution_count": null,
   "metadata": {},
   "outputs": [],
   "source": [
    "my_palette = dict(zip(df_genome_data.genus_cat.unique(), sns.color_palette(\"tab20\", len(df_genome_data.genus_cat.unique()))))\n",
    "row_colors = df_genome_data.genus_cat.map(my_palette)"
   ]
  },
  {
   "cell_type": "code",
   "execution_count": null,
   "metadata": {},
   "outputs": [],
   "source": [
    "df_genome_data.to_pickle('/home/omkar/Projects/panGenome/data/entero_project/general/df_cluster_type_dist_per_genome.p')\n",
    "df_genome_data.to_csv('/home/omkar/Projects/panGenome/data/entero_project/general/df_cluster_type_dist_per_genome.csv')\n",
    "# df_genome_data = pd.read_pickle('/home/omkar/Projects/panGenome/data/entero_project/general/df_genome_data.p')\n"
   ]
  },
  {
   "cell_type": "markdown",
   "metadata": {},
   "source": [
    "## Supp Figure "
   ]
  },
  {
   "cell_type": "code",
   "execution_count": null,
   "metadata": {},
   "outputs": [],
   "source": [
    "# Figure with average cluster distribution\n",
    "df_genus_avg_cluster_type = pd.DataFrame(index=genus_list, columns=genome_product_map.columns)\n",
    "for genus in genus_list:\n",
    "    genus_block_ids = df_genome_data[df_genome_data.genus_cat == genus].index\n",
    "    df_genus_block = genome_product_map.loc[genus_block_ids,:]\n",
    "    product_avg = round(df_genus_block.sum(0)/df_genus_block.shape[0], 1)\n",
    "    df_genus_avg_cluster_type.loc[genus, :] = product_avg\n",
    "    \n",
    "df_genus_avg_cluster_type = df_genus_avg_cluster_type[df_genus_avg_cluster_type.columns].astype(float)\n",
    "sns.set_context(\"poster\", font_scale=1 )\n",
    "cmap = sns.color_palette(\"CMRmap_r\",50)\n",
    "# cmap = sns.color_palette(\"cubehelix_r\", 50)\n",
    "# cmap = sns.color_palette(\"BuPu\",30)\n",
    "\n",
    "g = sns.clustermap(df_genus_avg_cluster_type, annot=True,cmap=cmap, figsize = (30,30),linewidths=0)\n",
    "# g = sns.clustermap(df_genus_avg_cluster_type, cmap=cmap, figsize = (10,10),linewidths=0)\n",
    "\n",
    "\n",
    "df_genus_avg_cluster_type.to_csv('/home/omkar/Projects/panGenome/data/entero_project/general/df_genus_avg_cluster_type.csv')"
   ]
  },
  {
   "cell_type": "code",
   "execution_count": null,
   "metadata": {},
   "outputs": [],
   "source": [
    "genus_count = df_genome_data.groupby('genus_cat').count()\n",
    "genus_count = genus_count['Genus']\n",
    "genus_count = genus_count.reindex(index=genus_list)\n",
    "group_names = genus_count.index.tolist()\n",
    "group_size = genus_count.tolist()\n",
    "\n",
    "\n",
    "sns.set(context='poster', style='white', palette='deep', font='sans-serif', font_scale=1)\n",
    "# # First Ring (outside)\n",
    "fig, ax = plt.subplots()\n",
    "ax.axis('equal')\n",
    "\n",
    "group_colors = []\n",
    "for genus_id in group_names:\n",
    "    group_colors.append(my_palette[genus_id])\n",
    "    \n",
    "explode = (0,0,0,0,0,0,0,0.4,0.6,0.8,2,1.3,2.2,1.9,2.2,0)\n",
    "mypie, _ = ax.pie(group_size, radius=4, labels=list(zip(group_size,group_names,)), labeldistance=1.01, explode=explode,rotatelabels=True, colors=group_colors, textprops={'fontsize': 18 })\n",
    "plt.setp( mypie, width=4, edgecolor='white')\n",
    "plt.rcParams.update({'font.size': 18, 'font.weight':15})"
   ]
  },
  {
   "cell_type": "code",
   "execution_count": null,
   "metadata": {},
   "outputs": [],
   "source": [
    "### Supp Figure"
   ]
  },
  {
   "cell_type": "code",
   "execution_count": null,
   "metadata": {},
   "outputs": [],
   "source": [
    "genus_vs_clusters_reduced = genus_vs_clusters[np.logical_or(genus_vs_clusters.Avg_clusters>5, genus_vs_clusters.Genomes>50)]\n",
    "genus_vs_clusters_reduced_avg = genus_vs_clusters_reduced.iloc[:,11:]\n",
    "\n",
    "\n",
    "data = genus_vs_clusters_reduced_avg\n",
    "\n",
    "label_tmp_list = []\n",
    "for index in data.index:\n",
    "    ylabel = index + '(' + str(genus_vs_clusters.loc[index,'Genomes']) + ')'\n",
    "\n",
    "    label_tmp_list.append(ylabel)\n",
    "    \n",
    "sns.set(font_scale=3.4)\n",
    "\n",
    "r = sns.clustermap(data, cmap='BuPu',figsize=(40,40))\n",
    "\n"
   ]
  },
  {
   "cell_type": "code",
   "execution_count": null,
   "metadata": {},
   "outputs": [],
   "source": [
    "genus_vs_clusters_reduced = genus_vs_clusters[np.logical_or(genus_vs_clusters.Avg_clusters>5, genus_vs_clusters.Genomes>50)]\n",
    "genus_vs_clusters_reduced_avg = genus_vs_clusters_reduced.iloc[:,11:]\n",
    "\n",
    "\n",
    "data = genus_vs_clusters_reduced_avg\n",
    "label_tmp_list = []\n",
    "for index in data.index:\n",
    "    ylabel = index + '(' + str(genus_vs_clusters.loc[index,'Genomes']) + ')'\n",
    "    label_tmp_list.append(ylabel)\n",
    "\n",
    "sns.set(font_scale=3.4)\n",
    "data.index = label_tmp_list\n",
    "r = sns.clustermap(data, cmap='BuPu',annot=True,figsize=(40,40))\n",
    "\n"
   ]
  }
 ],
 "metadata": {
  "kernelspec": {
   "display_name": "Python 3",
   "language": "python",
   "name": "python3"
  },
  "language_info": {
   "codemirror_mode": {
    "name": "ipython",
    "version": 3
   },
   "file_extension": ".py",
   "mimetype": "text/x-python",
   "name": "python",
   "nbconvert_exporter": "python",
   "pygments_lexer": "ipython3",
   "version": "3.7.1"
  }
 },
 "nbformat": 4,
 "nbformat_minor": 2
}
