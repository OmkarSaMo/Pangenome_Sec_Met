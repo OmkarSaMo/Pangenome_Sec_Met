{
 "cells": [
  {
   "cell_type": "markdown",
   "metadata": {},
   "source": [
    "# Pangenome analysis\n",
    "\n",
    "Reconstruct pangenome of colibactin containing genomes of Escherichia"
   ]
  },
  {
   "cell_type": "code",
   "execution_count": 1,
   "metadata": {},
   "outputs": [],
   "source": [
    "import os\n",
    "import pandas as pd"
   ]
  },
  {
   "cell_type": "markdown",
   "metadata": {},
   "source": [
    "### Common functions\n",
    "\n",
    "Some common functions used in all the steps of analysis"
   ]
  },
  {
   "cell_type": "code",
   "execution_count": null,
   "metadata": {},
   "outputs": [],
   "source": [
    "def get_data_paths(home_dir = '../data/'):\n",
    "    '''\n",
    "    Returns a dictionary object with the paths to data used in the notebook\n",
    "    '''\n",
    "    \n",
    "    data_paths = dict(genomes_path = os.path.join(home_dir, 'patric_entero/genomes'),\n",
    "                      pangenome_path = os.path.join(home_dir, 'pangenome_analysis/colibactin_strains/')\n",
    "                     )\n",
    "    \n",
    "    return data_paths\n",
    "\n",
    "\n",
    "def get_pickle_paths(home_dir = '../pickles/'):\n",
    "    '''\n",
    "    Returns a dictionary object with the paths to tables used in the notebook\n",
    "    '''\n",
    "    \n",
    "    pickle_paths = dict(strains_path = os.path.join(home_dir, 'df_entero.p'),\n",
    "                      genus_colors = os.path.join(home_dir, 'genus_colors.p'))\n",
    "    \n",
    "                     \n",
    "    return pickle_paths\n",
    "\n",
    "\n",
    "data_paths = get_data_paths()\n",
    "pickle_paths = get_pickle_paths()  "
   ]
  }
 ],
 "metadata": {
  "kernelspec": {
   "display_name": "Python 3",
   "language": "python",
   "name": "python3"
  },
  "language_info": {
   "codemirror_mode": {
    "name": "ipython",
    "version": 3
   },
   "file_extension": ".py",
   "mimetype": "text/x-python",
   "name": "python",
   "nbconvert_exporter": "python",
   "pygments_lexer": "ipython3",
   "version": "3.7.1"
  }
 },
 "nbformat": 4,
 "nbformat_minor": 2
}
