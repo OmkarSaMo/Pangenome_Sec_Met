{
 "cells": [
  {
   "cell_type": "code",
   "execution_count": null,
   "metadata": {},
   "outputs": [],
   "source": [
    "import os\n",
    "import pandas as pd\n",
    "import seaborn as sns\n",
    "import numpy as np\n",
    "import networkx as nx\n",
    "from shutil import copyfile\n"
   ]
  },
  {
   "cell_type": "code",
   "execution_count": null,
   "metadata": {},
   "outputs": [],
   "source": [
    "bigscape_dir = '/home/omkar/Projects/panGenome/data/entero_project/bigscape_as4_no_hybrids/network_files/2019-05-08_14-19-17_glocal_hybrids_off_multi_cutoff/'\n",
    "cluster_class = 'PKS-NRP_Hybrids'\n",
    "family_id = 2\n",
    "bigscape_input_data = '/home/omkar/Projects/panGenome/data/entero_project/bigscape_specific_inputs/subfamilies/'\n",
    "cluster_from_dir = '/home/omkar/Projects/panGenome/data/entero_project/genomes/'\n",
    "df_sub_fam_bigscape = get_biscape_fam(cluster_class, bigscape_dir)\n",
    "all_fam_networks = pd.read_pickle('/home/omkar/Projects/panGenome/data/entero_project/general/family_graphs.p')\n",
    "fam_network = all_fam_networks[family_id]\n",
    "select_clusters_dict = select_clusters(df_sub_fam_bigscape, fam_network)\n",
    "create_bigscape_data(select_clusters_dict, bigscape_input_data, cluster_class, family_id, cluster_from_dir)"
   ]
  },
  {
   "cell_type": "markdown",
   "metadata": {},
   "source": [
    "python /home/omkar/Projects/packages/BiG-SCAPE/bigscape.py -i '/home/omkar/Projects/panGenome/data/entero_project/bigscape_specific_inputs/subfamilies/' -o '/home/omkar/Projects/panGenome/data/entero_project/bigscape_as4_subfamilies/' --hybrids-off --include_singletons --cutoffs 0.3 0.5 0.7"
   ]
  },
  {
   "cell_type": "code",
   "execution_count": null,
   "metadata": {},
   "outputs": [],
   "source": [
    "def get_biscape_fam(cluster_class, bigscape_dir):\n",
    "    post_path = cluster_class + '_clustering_c0.30.tsv'\n",
    "    fam_path = os.path.join(bigscape_dir, cluster_class, post_path)\n",
    "    df_sub_fam_bigscape = pd.read_table(fam_path, sep='\\t')\n",
    "\n",
    "    df_sub_fam_bigscape.set_index('#BGC Name',inplace=True)\n",
    "    \n",
    "    return(df_sub_fam_bigscape)\n",
    "\n",
    "\n",
    "def select_clusters(df_sub_fam_bigscape, fam_network):\n",
    "    'Select a cluster from each of the BiGSCAPE annotated families of clusters'\n",
    "    input_clusters = list(fam_network.nodes)\n",
    "    df_input_fam = df_sub_fam_bigscape.loc[input_clusters,:]\n",
    "    \n",
    "    list_sub_families = df_input_fam['Family Number'].unique()\n",
    "    \n",
    "    select_clusters_dict = dict()\n",
    "    \n",
    "    for sub_fam_id in list_sub_families:\n",
    "        sub_fam_nodes = df_input_fam[df_input_fam['Family Number'] == sub_fam_id].index.tolist()\n",
    "        sub_fam_nodes = [node for node in sub_fam_nodes if 'BGC' not in node]\n",
    "        sub_fam_network = fam_network.subgraph(sub_fam_nodes)\n",
    "        \n",
    "        centrality = nx.algorithms.degree_centrality(sub_fam_network)\n",
    "        sorted_x = sorted(centrality.items(), key=lambda kv: kv[1], reverse=True)\n",
    "        sorted_dict = collections.OrderedDict(sorted_x)\n",
    "        top_cluster = list(sorted_dict.keys())[0]\n",
    "        select_clusters_dict[sub_fam_id] = top_cluster\n",
    "        \n",
    "    return select_clusters_dict\n",
    "\n",
    "def create_bigscape_data(select_clusters_dict, bigscape_input_data, cluster_class, family_id, cluster_from_dir):\n",
    "    'Move cluster files to bigscape input data'\n",
    "    class_dir = os.path.join(bigscape_input_data, cluster_class)\n",
    "    if not os.path.isdir(class_dir):\n",
    "        os.mkdir(class_dir)\n",
    "    family_dir = os.path.join(class_dir, 'family_' + str(family_id))\n",
    "    if not os.path.isdir(family_dir):\n",
    "        os.mkdir(family_dir)\n",
    "    \n",
    "    for cluster in select_clusters_dict.values():\n",
    "        genome = cluster.split('.cluster')[0]\n",
    "        file_from = os.path.join(cluster_from_dir, genome, 'as4', cluster + '.gbk')\n",
    "        file_to = os.path.join(family_dir, cluster + '.gbk')\n",
    "        copyfile(file_from, file_to)\n",
    "        \n",
    "def get_adj_mat(G, df_sub_fam_bigscape):\n",
    "    node_colors = []\n",
    "    cluster_genus_list = []\n",
    "    cluster_genome_list = []\n",
    "    \n",
    "    for node in G.nodes:\n",
    "        if 'BGC' in node:\n",
    "            node_colors.append((0,0,0))\n",
    "            cluster_genus_list.append('MIBIG')\n",
    "            cluster_genome_list.append('MIBIG')\n",
    "        else:\n",
    "            node_colors.append(cluster_color[node])                       \n",
    "            cluster_genus_list.append(cluster_genus[node])\n",
    "            cluster_genome_list.append(cluster_genome[node])\n",
    "\n",
    "    # Plot adjacency matrix\n",
    "    plt.figure()\n",
    "    df_g = nx.to_pandas_adjacency(G)\n",
    "    r = sns.clustermap(df_g, figsize=(20,20), cmap='BuPu', row_colors=node_colors, col_colors=node_colors, xticklabels=False, yticklabels=False)\n",
    "    for label in genus_list:\n",
    "        r.ax_col_dendrogram.bar(0, 0, color=my_palette[label],\n",
    "                            label=label, linewidth=0)\n",
    "    r.ax_col_dendrogram.legend(loc=(1.1,-4), ncol=1)"
   ]
  }
 ],
 "metadata": {
  "kernelspec": {
   "display_name": "Python 3",
   "language": "python",
   "name": "python3"
  },
  "language_info": {
   "codemirror_mode": {
    "name": "ipython",
    "version": 3
   },
   "file_extension": ".py",
   "mimetype": "text/x-python",
   "name": "python",
   "nbconvert_exporter": "python",
   "pygments_lexer": "ipython3",
   "version": "3.7.1"
  }
 },
 "nbformat": 4,
 "nbformat_minor": 2
}
